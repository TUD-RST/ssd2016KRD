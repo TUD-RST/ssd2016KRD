{
 "metadata": {
  "name": "",
  "signature": "sha256:732762f79ff4ff84212a057e56e8144dfe37161ec6935264e0cf2e9a20f2f2c9"
 },
 "nbformat": 3,
 "nbformat_minor": 0,
 "worksheets": [
  {
   "cells": [
    {
     "cell_type": "code",
     "collapsed": false,
     "input": [
      "%matplotlib inline\n",
      "%load_ext displaytools"
     ],
     "language": "python",
     "metadata": {},
     "outputs": [],
     "prompt_number": 1
    },
    {
     "cell_type": "markdown",
     "metadata": {},
     "source": [
      "This IPython notebook contains supporting calculations for the paper \n",
      "**\"Holonomic Modeling and Hierarchic Tracking Control of an Unstable Underactuated Nonholonomic System\"**\n",
      "which is presented on the [SSD2016 Conference](http://www.ssd-conf.org/ssd16/index.php?site=cfp&conf=SAC)\".\n",
      "\n",
      "\n",
      "#### Notes:\n",
      " * This notebook depends on some extermal libraries\n",
      "   * [`symb_tools`](https://github.com/cknoll/rst_symbtools) (imported as `st`)\n",
      "   * [`python-control`](https://github.com/python-control/python-control) (imported as `control`, developed by other authors) \n",
      " * This notebook uses the extension [`displaytools`](https://github.com/cknoll/displaytools) to conveniently print intermediate results (triggered by the special comment `##` )"
     ]
    },
    {
     "cell_type": "code",
     "collapsed": false,
     "input": [
      "from __future__ import  division\n",
      "import time\n",
      "from sympy import sin, cos, simplify\n",
      "import sympy as sp\n",
      "import numpy as np\n",
      "from numpy import r_\n",
      "import pylab as pl\n",
      "\n",
      "from scipy.integrate import odeint\n",
      "import sys\n",
      "import pickle\n",
      "\n",
      "from sympy.interactive import printing\n",
      "printing.init_printing()\n",
      "\n",
      "import symbtools as st\n",
      "import symbtools.modeltools as mt\n",
      "\n",
      "import control"
     ],
     "language": "python",
     "metadata": {},
     "outputs": [],
     "prompt_number": 2
    },
    {
     "cell_type": "markdown",
     "metadata": {},
     "source": [
      "The system under consideration and coordinate definitions:\n",
      "\n",
      "<img src=\"robot_schematic.png\" width=\"450px\">"
     ]
    },
    {
     "cell_type": "markdown",
     "metadata": {},
     "source": [
      "#### Meaning of the coordinates\n",
      "$$\n",
      "\\begin{pmatrix}\n",
      "\\theta \\\\ x \\\\ y \\\\ \\varphi_1 \\\\ \\varphi_2 \\\\ \\alpha \n",
      "\\end{pmatrix}\n",
      "= \\begin{pmatrix}\n",
      "\\frac{r\\cdot(q_3 - q_4)}{b}\\\\ q_1\\\\ q_2 \\\\ q_3 \\\\ q_4 \\\\ q_5 \n",
      "\\end{pmatrix}\n",
      "$$\n",
      "\n",
      "Relative angele of the wheels (\"motor angle\"): $(\\varphi_1, \\varphi_2) = (q_3, q_4)$ \n",
      "\n",
      "\n",
      "Absolute angles : $(\\varphi_1 + \\alpha, \\varphi_2 + \\alpha) = (q_3 + q_5, q_4 + q_5)$\n"
     ]
    },
    {
     "cell_type": "code",
     "collapsed": false,
     "input": [
      "params = sp.symbols('r, b, h, g, J_Wy, J_Wz, J_Bx, J_By, J_Bz, m_B, m_W')\n",
      "st.make_global(params)  \n",
      "\n",
      "qq = st.symb_vector('q1, q2, q3, q4, q5') ##:T\n",
      "\n",
      "qqd = st.time_deriv(qq, qq) ##:T\n",
      "qqdd = st.time_deriv(qq, qq, order=2) ##:T\n",
      "\n",
      "st.make_global(qq, qqd, qqdd)"
     ],
     "language": "python",
     "metadata": {},
     "outputs": [
      {
       "latex": [
        "qq.T := $$\\left[\\begin{matrix}q_{1} & q_{2} & q_{3} & q_{4} & q_{5}\\end{matrix}\\right]$$"
       ],
       "metadata": {},
       "output_type": "display_data",
       "png": "[encoded data removed]",
       "text": [
        "qq.T := [q\u2081  q\u2082  q\u2083  q\u2084  q\u2085]"
       ]
      },
      {
       "output_type": "stream",
       "stream": "stdout",
       "text": [
        "---\n"
       ]
      },
      {
       "latex": [
        "qqd.T := $$\\left[\\begin{matrix}\\dot{q}_{1} & \\dot{q}_{2} & \\dot{q}_{3} & \\dot{q}_{4} & \\dot{q}_{5}\\end{matrix}\\right]$$"
       ],
       "metadata": {},
       "output_type": "display_data",
       "png": "[encoded data removed]",
       "text": [
        "qqd.T := [q\u0307\u2081  q\u0307\u2082  q\u0307\u2083  q\u0307\u2084  q\u0307\u2085]"
       ]
      },
      {
       "output_type": "stream",
       "stream": "stdout",
       "text": [
        "---\n"
       ]
      },
      {
       "latex": [
        "qqdd.T := $$\\left[\\begin{matrix}\\ddot{q}_{1} & \\ddot{q}_{2} & \\ddot{q}_{3} & \\ddot{q}_{4} & \\ddot{q}_{5}\\end{matrix}\\right]$$"
       ],
       "metadata": {},
       "output_type": "display_data",
       "png": "[encoded data removed]",
       "text": [
        "qqdd.T := [q\u0308\u2081  q\u0308\u2082  q\u0308\u2083  q\u0308\u2084  q\u0308\u2085]"
       ]
      },
      {
       "output_type": "stream",
       "stream": "stdout",
       "text": [
        "---\n"
       ]
      }
     ],
     "prompt_number": 3
    },
    {
     "cell_type": "code",
     "collapsed": false,
     "input": [
      "# auxiliarry quantity \n",
      "theta = (q3 - q4)*r/b ##\n",
      "thetadot = st.time_deriv(theta, qq) ##"
     ],
     "language": "python",
     "metadata": {},
     "outputs": [
      {
       "latex": [
        "$$\\frac{r}{b} \\left(q_{3} - q_{4}\\right)$$"
       ],
       "metadata": {},
       "output_type": "display_data",
       "png": "[encoded data removed]",
       "text": [
        "r\u22c5(q\u2083 - q\u2084)\n",
        "\u2500\u2500\u2500\u2500\u2500\u2500\u2500\u2500\u2500\u2500\u2500\n",
        "     b     "
       ]
      },
      {
       "output_type": "stream",
       "stream": "stdout",
       "text": [
        "---\n"
       ]
      },
      {
       "latex": [
        "$$\\frac{r}{b} \\left(\\dot{q}_{3} - \\dot{q}_{4}\\right)$$"
       ],
       "metadata": {},
       "output_type": "display_data",
       "png": "[encoded data removed]",
       "text": [
        "r\u22c5(q\u0307\u2083 - q\u0307\u2084)\n",
        "\u2500\u2500\u2500\u2500\u2500\u2500\u2500\u2500\u2500\u2500\u2500\u2500\u2500\n",
        "      b      "
       ]
      },
      {
       "output_type": "stream",
       "stream": "stdout",
       "text": [
        "---\n"
       ]
      }
     ],
     "prompt_number": 4
    },
    {
     "cell_type": "code",
     "collapsed": false,
     "input": [
      "def rot_y(x):\n",
      "    return sp.Matrix([[cos(x), 0, sin(x)], [0, 1, 0], [-sin(x), 0, cos(x)]])\n",
      "\n",
      "def rot_z(x):\n",
      "    return sp.Matrix([[cos(x), -sin(x), 0],[sin(x), cos(x), 0],[0,0,1]])"
     ],
     "language": "python",
     "metadata": {},
     "outputs": [],
     "prompt_number": 5
    },
    {
     "cell_type": "code",
     "collapsed": false,
     "input": [
      "# transformation from {B} to {M}\n",
      "R_B_M = rot_y(q5) ##\n",
      "# transformation from {B} to {M}\n",
      "R_M_I = rot_z(theta) ##\n"
     ],
     "language": "python",
     "metadata": {},
     "outputs": [
      {
       "latex": [
        "$$\\left[\\begin{matrix}\\cos{\\left (q_{5} \\right )} & 0 & \\sin{\\left (q_{5} \\right )}\\\\0 & 1 & 0\\\\- \\sin{\\left (q_{5} \\right )} & 0 & \\cos{\\left (q_{5} \\right )}\\end{matrix}\\right]$$"
       ],
       "metadata": {},
       "output_type": "display_data",
       "png": "[encoded data removed]",
       "text": [
        "\u23a1cos(q\u2085)   0  sin(q\u2085)\u23a4\n",
        "\u23a2                    \u23a5\n",
        "\u23a2   0      1     0   \u23a5\n",
        "\u23a2                    \u23a5\n",
        "\u23a3-sin(q\u2085)  0  cos(q\u2085)\u23a6"
       ]
      },
      {
       "output_type": "stream",
       "stream": "stdout",
       "text": [
        "---\n"
       ]
      },
      {
       "latex": [
        "$$\\left[\\begin{matrix}\\cos{\\left (\\frac{r}{b} \\left(q_{3} - q_{4}\\right) \\right )} & - \\sin{\\left (\\frac{r}{b} \\left(q_{3} - q_{4}\\right) \\right )} & 0\\\\\\sin{\\left (\\frac{r}{b} \\left(q_{3} - q_{4}\\right) \\right )} & \\cos{\\left (\\frac{r}{b} \\left(q_{3} - q_{4}\\right) \\right )} & 0\\\\0 & 0 & 1\\end{matrix}\\right]$$"
       ],
       "metadata": {},
       "output_type": "display_data",
       "png": "[encoded data removed]",
       "text": [
        "\u23a1   \u239br\u22c5(q\u2083 - q\u2084)\u239e      \u239br\u22c5(q\u2083 - q\u2084)\u239e   \u23a4\n",
        "\u23a2cos\u239c\u2500\u2500\u2500\u2500\u2500\u2500\u2500\u2500\u2500\u2500\u2500\u239f  -sin\u239c\u2500\u2500\u2500\u2500\u2500\u2500\u2500\u2500\u2500\u2500\u2500\u239f  0\u23a5\n",
        "\u23a2   \u239d     b     \u23a0      \u239d     b     \u23a0   \u23a5\n",
        "\u23a2                                      \u23a5\n",
        "\u23a2   \u239br\u22c5(q\u2083 - q\u2084)\u239e     \u239br\u22c5(q\u2083 - q\u2084)\u239e    \u23a5\n",
        "\u23a2sin\u239c\u2500\u2500\u2500\u2500\u2500\u2500\u2500\u2500\u2500\u2500\u2500\u239f  cos\u239c\u2500\u2500\u2500\u2500\u2500\u2500\u2500\u2500\u2500\u2500\u2500\u239f   0\u23a5\n",
        "\u23a2   \u239d     b     \u23a0     \u239d     b     \u23a0    \u23a5\n",
        "\u23a2                                      \u23a5\n",
        "\u23a3       0                  0          1\u23a6"
       ]
      },
      {
       "output_type": "stream",
       "stream": "stdout",
       "text": [
        "---\n"
       ]
      }
     ],
     "prompt_number": 6
    },
    {
     "cell_type": "code",
     "collapsed": false,
     "input": [
      "# center of mass of the main body\n",
      "P_B_B = sp.Matrix([0, 0, h]) ##:\n",
      "P_B_M = R_B_M * P_B_B ##:"
     ],
     "language": "python",
     "metadata": {},
     "outputs": [
      {
       "latex": [
        "P_B_B := $$\\left[\\begin{matrix}0\\\\0\\\\h\\end{matrix}\\right]$$"
       ],
       "metadata": {},
       "output_type": "display_data",
       "png": "[encoded data removed]",
       "text": [
        "P_B_B := \u23a10\u23a4\n",
        "\u23a2 \u23a5\n",
        "\u23a20\u23a5\n",
        "\u23a2 \u23a5\n",
        "\u23a3h\u23a6"
       ]
      },
      {
       "output_type": "stream",
       "stream": "stdout",
       "text": [
        "---\n"
       ]
      },
      {
       "latex": [
        "P_B_M := $$\\left[\\begin{matrix}h \\sin{\\left (q_{5} \\right )}\\\\0\\\\h \\cos{\\left (q_{5} \\right )}\\end{matrix}\\right]$$"
       ],
       "metadata": {},
       "output_type": "display_data",
       "png": "[encoded data removed]",
       "text": [
        "P_B_M := \u23a1h\u22c5sin(q\u2085)\u23a4\n",
        "\u23a2         \u23a5\n",
        "\u23a2    0    \u23a5\n",
        "\u23a2         \u23a5\n",
        "\u23a3h\u22c5cos(q\u2085)\u23a6"
       ]
      },
      {
       "output_type": "stream",
       "stream": "stdout",
       "text": [
        "---\n"
       ]
      }
     ],
     "prompt_number": 7
    },
    {
     "cell_type": "code",
     "collapsed": false,
     "input": [
      "# inertial tensor of the main body w.r.t. {B}\n",
      "JJ = sp.diag(J_Bx, J_By, J_Bz) ##:"
     ],
     "language": "python",
     "metadata": {},
     "outputs": [
      {
       "latex": [
        "JJ := $$\\left[\\begin{matrix}J_{Bx} & 0 & 0\\\\0 & J_{By} & 0\\\\0 & 0 & J_{Bz}\\end{matrix}\\right]$$"
       ],
       "metadata": {},
       "output_type": "display_data",
       "png": "[encoded data removed]",
       "text": [
        "JJ := \u23a1J_Bx   0     0  \u23a4\n",
        "\u23a2                \u23a5\n",
        "\u23a2 0    J_By   0  \u23a5\n",
        "\u23a2                \u23a5\n",
        "\u23a3 0     0    J_Bz\u23a6"
       ]
      },
      {
       "output_type": "stream",
       "stream": "stdout",
       "text": [
        "---\n"
       ]
      }
     ],
     "prompt_number": 8
    },
    {
     "cell_type": "code",
     "collapsed": false,
     "input": [
      "# Winkelgeschwindigkeit im Koordinatensystem {I}\n",
      "omega_B = R_B_M.T*sp.Matrix([0, qdot5, 0]) + R_B_M.T*R_M_I.T*sp.Matrix([0, 0, thetadot]) ##"
     ],
     "language": "python",
     "metadata": {},
     "outputs": [
      {
       "latex": [
        "$$\\left[\\begin{matrix}- \\frac{r}{b} \\left(\\dot{q}_{3} - \\dot{q}_{4}\\right) \\sin{\\left (q_{5} \\right )}\\\\\\dot{q}_{5}\\\\\\frac{r}{b} \\left(\\dot{q}_{3} - \\dot{q}_{4}\\right) \\cos{\\left (q_{5} \\right )}\\end{matrix}\\right]$$"
       ],
       "metadata": {},
       "output_type": "display_data",
       "png": "[encoded data removed]",
       "text": [
        "\u23a1-r\u22c5(q\u0307\u2083 - q\u0307\u2084)\u22c5sin(q\u2085) \u23a4\n",
        "\u23a2\u2500\u2500\u2500\u2500\u2500\u2500\u2500\u2500\u2500\u2500\u2500\u2500\u2500\u2500\u2500\u2500\u2500\u2500\u2500\u2500\u2500\u2500\u2500\u23a5\n",
        "\u23a2           b           \u23a5\n",
        "\u23a2                       \u23a5\n",
        "\u23a2          q\u0307\u2085          \u23a5\n",
        "\u23a2                       \u23a5\n",
        "\u23a2 r\u22c5(q\u0307\u2083 - q\u0307\u2084)\u22c5cos(q\u2085) \u23a5\n",
        "\u23a2 \u2500\u2500\u2500\u2500\u2500\u2500\u2500\u2500\u2500\u2500\u2500\u2500\u2500\u2500\u2500\u2500\u2500\u2500\u2500\u2500\u2500 \u23a5\n",
        "\u23a3           b           \u23a6"
       ]
      },
      {
       "output_type": "stream",
       "stream": "stdout",
       "text": [
        "---\n"
       ]
      }
     ],
     "prompt_number": 9
    },
    {
     "cell_type": "code",
     "collapsed": false,
     "input": [
      "# center of mass of the main body\n",
      "P_B_I = R_M_I*P_B_M +  sp.Matrix([q1, q2, 0]) ##"
     ],
     "language": "python",
     "metadata": {},
     "outputs": [
      {
       "latex": [
        "$$\\left[\\begin{matrix}h \\sin{\\left (q_{5} \\right )} \\cos{\\left (\\frac{r}{b} \\left(q_{3} - q_{4}\\right) \\right )} + q_{1}\\\\h \\sin{\\left (q_{5} \\right )} \\sin{\\left (\\frac{r}{b} \\left(q_{3} - q_{4}\\right) \\right )} + q_{2}\\\\h \\cos{\\left (q_{5} \\right )}\\end{matrix}\\right]$$"
       ],
       "metadata": {},
       "output_type": "display_data",
       "png": "[encoded data removed]",
       "text": [
        "\u23a1             \u239br\u22c5(q\u2083 - q\u2084)\u239e     \u23a4\n",
        "\u23a2h\u22c5sin(q\u2085)\u22c5cos\u239c\u2500\u2500\u2500\u2500\u2500\u2500\u2500\u2500\u2500\u2500\u2500\u239f + q\u2081\u23a5\n",
        "\u23a2             \u239d     b     \u23a0     \u23a5\n",
        "\u23a2                               \u23a5\n",
        "\u23a2             \u239br\u22c5(q\u2083 - q\u2084)\u239e     \u23a5\n",
        "\u23a2h\u22c5sin(q\u2085)\u22c5sin\u239c\u2500\u2500\u2500\u2500\u2500\u2500\u2500\u2500\u2500\u2500\u2500\u239f + q\u2082\u23a5\n",
        "\u23a2             \u239d     b     \u23a0     \u23a5\n",
        "\u23a2                               \u23a5\n",
        "\u23a3           h\u22c5cos(q\u2085)           \u23a6"
       ]
      },
      {
       "output_type": "stream",
       "stream": "stdout",
       "text": [
        "---\n"
       ]
      }
     ],
     "prompt_number": 10
    },
    {
     "cell_type": "code",
     "collapsed": false,
     "input": [
      "v_expr = r/2 *(qdot3 + qdot5 + qdot4 + qdot5)\n",
      "v_rplm = [(qdot1, cos(theta)*v_expr), (qdot2, sin(theta)*v_expr)] # replacements for subsitituion\n",
      "\n",
      "P_B_I_dot = st.time_deriv(P_B_I, qq).subs(v_rplm)"
     ],
     "language": "python",
     "metadata": {},
     "outputs": [],
     "prompt_number": 11
    },
    {
     "cell_type": "code",
     "collapsed": false,
     "input": [
      "#Quadrat der Geschwindigkeit des Pendelschwerpunkts bez\u00fcglich {I}\n",
      "v_square = (P_B_I_dot.T*P_B_I_dot)[0]"
     ],
     "language": "python",
     "metadata": {},
     "outputs": [],
     "prompt_number": 12
    },
    {
     "cell_type": "code",
     "collapsed": false,
     "input": [
      "# consistency check (alpha and alpha dot vanishing)\n",
      "v0 = v_square.subs(q5,0).subs(qdot5, 0).doit()\n",
      "v0.simplify()"
     ],
     "language": "python",
     "metadata": {},
     "outputs": [
      {
       "latex": [
        "$$\\frac{r^{2}}{4} \\left(\\dot{q}_{3} + \\dot{q}_{4}\\right)^{2}$$"
       ],
       "metadata": {},
       "output_type": "pyout",
       "png": "[encoded data removed]",
       "prompt_number": 13,
       "text": [
        " 2            2\n",
        "r \u22c5(q\u0307\u2083 + q\u0307\u2084) \n",
        "\u2500\u2500\u2500\u2500\u2500\u2500\u2500\u2500\u2500\u2500\u2500\u2500\u2500\u2500\u2500\n",
        "       4       "
       ]
      }
     ],
     "prompt_number": 13
    },
    {
     "cell_type": "code",
     "collapsed": false,
     "input": [
      "# translational velocities of the wheels (i.e. of their centers)\n",
      "# -> Schwerpunkt der R\u00e4der:\n",
      "P_Wl = sp.Matrix([q1, q2, 0]) + rot_z(theta)*sp.Matrix([0, 1, 0])*b/2\n",
      "P_Wr = sp.Matrix([q1, q2, 0]) - rot_z(theta)*sp.Matrix([0, 1, 0])*b/2\n",
      "\n",
      "P_Wl_dot = sp.simplify(st.time_deriv(P_Wl, qq).subs(v_rplm))##:\n",
      "P_Wr_dot = sp.simplify(st.time_deriv(P_Wr, qq).subs(v_rplm))\n",
      "simplify(sp.sqrt(P_Wl_dot.T*P_Wl_dot))"
     ],
     "language": "python",
     "metadata": {},
     "outputs": [
      {
       "latex": [
        "P_Wl_dot := $$\\left[\\begin{matrix}r \\left(\\dot{q}_{4} + \\dot{q}_{5}\\right) \\cos{\\left (\\frac{r}{b} \\left(q_{3} - q_{4}\\right) \\right )}\\\\r \\left(\\dot{q}_{4} + \\dot{q}_{5}\\right) \\sin{\\left (\\frac{r}{b} \\left(q_{3} - q_{4}\\right) \\right )}\\\\0\\end{matrix}\\right]$$"
       ],
       "metadata": {},
       "output_type": "display_data",
       "png": "[encoded data removed]",
       "text": [
        "P_Wl_dot := \u23a1                 \u239br\u22c5(q\u2083 - q\u2084)\u239e\u23a4\n",
        "\u23a2r\u22c5(q\u0307\u2084 + q\u0307\u2085)\u22c5cos\u239c\u2500\u2500\u2500\u2500\u2500\u2500\u2500\u2500\u2500\u2500\u2500\u239f\u23a5\n",
        "\u23a2                 \u239d     b     \u23a0\u23a5\n",
        "\u23a2                              \u23a5\n",
        "\u23a2                 \u239br\u22c5(q\u2083 - q\u2084)\u239e\u23a5\n",
        "\u23a2r\u22c5(q\u0307\u2084 + q\u0307\u2085)\u22c5sin\u239c\u2500\u2500\u2500\u2500\u2500\u2500\u2500\u2500\u2500\u2500\u2500\u239f\u23a5\n",
        "\u23a2                 \u239d     b     \u23a0\u23a5\n",
        "\u23a2                              \u23a5\n",
        "\u23a3              0               \u23a6"
       ]
      },
      {
       "output_type": "stream",
       "stream": "stdout",
       "text": [
        "---\n"
       ]
      },
      {
       "latex": [
        "$$\\left(\\left[\\begin{matrix}r^{2} \\left(\\dot{q}_{4} + \\dot{q}_{5}\\right)^{2}\\end{matrix}\\right]\\right)^{\\frac{1}{2}}$$"
       ],
       "metadata": {},
       "output_type": "pyout",
       "png": "[encoded data removed]",
       "prompt_number": 14,
       "text": [
        "                   1/2\n",
        "\u239b\u23a1 2            2\u23a4\u239e   \n",
        "\u239d\u23a3r \u22c5(q\u0307\u2084 + q\u0307\u2085) \u23a6\u23a0   "
       ]
      }
     ],
     "prompt_number": 14
    },
    {
     "cell_type": "code",
     "collapsed": false,
     "input": [
      "# kinetic energy\n",
      "\n",
      "# both wheels\n",
      "T_wheels_trans = m_W/2*(simplify(P_Wl_dot.T*P_Wl_dot)[0] + simplify(P_Wr_dot.T*P_Wr_dot)[0]) \n",
      "T_wheels_rot = J_Wy/2*( (qdot3+qdot5)**2 + (qdot4+qdot5)**2 ) + J_Wz*thetadot**2\n",
      "\n",
      "# main body\n",
      "T_mainbody_trans = m_B/2*v_square\n",
      "T_mainbody_rot = (omega_B.T/2 * JJ * omega_B)[0] ##\n",
      "\n",
      "\n",
      "T = T_wheels_trans + T_wheels_rot + T_mainbody_trans + T_mainbody_rot\n",
      "     \n",
      "# Potentielle Energie\n",
      "U = m_B*g*P_B_I[-1] ##"
     ],
     "language": "python",
     "metadata": {},
     "outputs": [
      {
       "latex": [
        "$$\\frac{J_{Bx} r^{2}}{2 b^{2}} \\left(\\dot{q}_{3} - \\dot{q}_{4}\\right)^{2} \\sin^{2}{\\left (q_{5} \\right )} + \\frac{J_{By} \\dot{q}_{5}^{2}}{2} + \\frac{J_{Bz} r^{2}}{2 b^{2}} \\left(\\dot{q}_{3} - \\dot{q}_{4}\\right)^{2} \\cos^{2}{\\left (q_{5} \\right )}$$"
       ],
       "metadata": {},
       "output_type": "display_data",
       "png": "[encoded data removed]",
       "text": [
        "      2            2    2               2         2            2    2    \n",
        "J_Bx\u22c5r \u22c5(q\u0307\u2083 - q\u0307\u2084) \u22c5sin (q\u2085)   J_By\u22c5q\u0307\u2085    J_Bz\u22c5r \u22c5(q\u0307\u2083 - q\u0307\u2084) \u22c5cos (q\u2085)\n",
        "\u2500\u2500\u2500\u2500\u2500\u2500\u2500\u2500\u2500\u2500\u2500\u2500\u2500\u2500\u2500\u2500\u2500\u2500\u2500\u2500\u2500\u2500\u2500\u2500\u2500\u2500\u2500\u2500\u2500 + \u2500\u2500\u2500\u2500\u2500\u2500\u2500\u2500\u2500 + \u2500\u2500\u2500\u2500\u2500\u2500\u2500\u2500\u2500\u2500\u2500\u2500\u2500\u2500\u2500\u2500\u2500\u2500\u2500\u2500\u2500\u2500\u2500\u2500\u2500\u2500\u2500\u2500\u2500\n",
        "                2                   2                       2            \n",
        "             2\u22c5b                                         2\u22c5b             "
       ]
      },
      {
       "output_type": "stream",
       "stream": "stdout",
       "text": [
        "---\n"
       ]
      },
      {
       "latex": [
        "$$g h m_{B} \\cos{\\left (q_{5} \\right )}$$"
       ],
       "metadata": {},
       "output_type": "display_data",
       "png": "[encoded data removed]",
       "text": [
        "g\u22c5h\u22c5m_B\u22c5cos(q\u2085)"
       ]
      },
      {
       "output_type": "stream",
       "stream": "stdout",
       "text": [
        "---\n"
       ]
      }
     ],
     "prompt_number": 15
    },
    {
     "cell_type": "code",
     "collapsed": false,
     "input": [
      "qq_rest = sp.Matrix([q3, q4, q5])\n",
      "ttau = st.symb_vector('tau1, tau2')\n",
      "st.make_global(ttau)"
     ],
     "language": "python",
     "metadata": {},
     "outputs": [],
     "prompt_number": 16
    },
    {
     "cell_type": "code",
     "collapsed": false,
     "input": [
      "%time mod = mt.generate_symbolic_model(T, U, qq_rest, [tau1, tau2, 0], simplify=False)"
     ],
     "language": "python",
     "metadata": {},
     "outputs": [
      {
       "output_type": "stream",
       "stream": "stdout",
       "text": [
        "CPU times: user 1.96 s, sys: 8 ms, total: 1.97 s\n",
        "Wall time: 1.97 s\n"
       ]
      }
     ],
     "prompt_number": 17
    },
    {
     "cell_type": "code",
     "collapsed": false,
     "input": [
      "%time mod.MM.simplify()"
     ],
     "language": "python",
     "metadata": {},
     "outputs": [
      {
       "output_type": "stream",
       "stream": "stdout",
       "text": [
        "CPU times: user 15.5 s, sys: 4 ms, total: 15.5 s\n",
        "Wall time: 15.5 s\n"
       ]
      }
     ],
     "prompt_number": 18
    },
    {
     "cell_type": "code",
     "collapsed": false,
     "input": [
      "%time mod.calc_state_eq(simplify=False)"
     ],
     "language": "python",
     "metadata": {},
     "outputs": [
      {
       "output_type": "stream",
       "stream": "stdout",
       "text": [
        "CPU times: user 1.3 s, sys: 4 ms, total: 1.31 s\n",
        "Wall time: 1.3 s\n"
       ]
      }
     ],
     "prompt_number": 19
    },
    {
     "cell_type": "code",
     "collapsed": false,
     "input": [
      "# estimate the complexity of the expressions with count_ops (.co)\n",
      "mod.f.co, mod.g.co"
     ],
     "language": "python",
     "metadata": {},
     "outputs": [
      {
       "latex": [
        "$$\\left ( \\left[\\begin{matrix}1\\\\1\\\\1\\\\2377\\\\2376\\\\2379\\end{matrix}\\right], \\quad \\left[\\begin{matrix}0 & 0\\\\0 & 0\\\\0 & 0\\\\345 & 331\\\\331 & 345\\\\353 & 353\\end{matrix}\\right]\\right )$$"
       ],
       "metadata": {},
       "output_type": "pyout",
       "png": "[encoded data removed]",
       "prompt_number": 20,
       "text": [
        "\u239b\u23a1 1  \u23a4, \u23a1 0    0 \u23a4\u239e\n",
        "\u239c\u23a2    \u23a5  \u23a2        \u23a5\u239f\n",
        "\u239c\u23a2 1  \u23a5  \u23a2 0    0 \u23a5\u239f\n",
        "\u239c\u23a2    \u23a5  \u23a2        \u23a5\u239f\n",
        "\u239c\u23a2 1  \u23a5  \u23a2 0    0 \u23a5\u239f\n",
        "\u239c\u23a2    \u23a5  \u23a2        \u23a5\u239f\n",
        "\u239c\u23a22377\u23a5  \u23a2345  331\u23a5\u239f\n",
        "\u239c\u23a2    \u23a5  \u23a2        \u23a5\u239f\n",
        "\u239c\u23a22376\u23a5  \u23a2331  345\u23a5\u239f\n",
        "\u239c\u23a2    \u23a5  \u23a2        \u23a5\u239f\n",
        "\u239d\u23a32379\u23a6  \u23a3353  353\u23a6\u23a0"
       ]
      }
     ],
     "prompt_number": 20
    },
    {
     "cell_type": "code",
     "collapsed": false,
     "input": [
      "# join the two vectorfields\n",
      "fg = mod.f + mod.g*ttau"
     ],
     "language": "python",
     "metadata": {},
     "outputs": [],
     "prompt_number": 21
    },
    {
     "cell_type": "code",
     "collapsed": false,
     "input": [
      "state = mod.x\n",
      "\n",
      "# equilibrium for substitution\n",
      "state0_replm = st.zip0(state) ##"
     ],
     "language": "python",
     "metadata": {},
     "outputs": [
      {
       "latex": [
        "$$\\left [ \\left ( q_{3}, \\quad 0\\right ), \\quad \\left ( q_{4}, \\quad 0\\right ), \\quad \\left ( q_{5}, \\quad 0\\right ), \\quad \\left ( \\dot{q}_{3}, \\quad 0\\right ), \\quad \\left ( \\dot{q}_{4}, \\quad 0\\right ), \\quad \\left ( \\dot{q}_{5}, \\quad 0\\right )\\right ]$$"
       ],
       "metadata": {},
       "output_type": "display_data",
       "png": "[encoded data removed]",
       "text": [
        "[(q\u2083, 0), (q\u2084, 0), (q\u2085, 0), (q\u0307\u2083, 0), (q\u0307\u2084, 0), (q\u0307\u2085, 0)]"
       ]
      },
      {
       "output_type": "stream",
       "stream": "stdout",
       "text": [
        "---\n"
       ]
      }
     ],
     "prompt_number": 22
    },
    {
     "cell_type": "code",
     "collapsed": false,
     "input": [
      "A = fg.jacobian(state).subs(state0_replm) \n",
      "B = fg.jacobian(ttau).subs(state0_replm)"
     ],
     "language": "python",
     "metadata": {},
     "outputs": [],
     "prompt_number": 23
    },
    {
     "cell_type": "code",
     "collapsed": false,
     "input": [
      "# which symboly do occur in A and B?\n",
      "A.s ##\n",
      "B.s ##"
     ],
     "language": "python",
     "metadata": {},
     "outputs": [
      {
       "latex": [
        "$$\\left\\{J_{By}, J_{Bz}, J_{Wy}, J_{Wz}, b, g, h, m_{B}, m_{W}, r\\right\\}$$"
       ],
       "metadata": {},
       "output_type": "display_data",
       "png": "[encoded data removed]",
       "text": [
        "set([J_By, J_Bz, J_Wy, J_Wz, b, g, h, m_B, m_W, r])"
       ]
      },
      {
       "output_type": "stream",
       "stream": "stdout",
       "text": [
        "___\n"
       ]
      },
      {
       "latex": [
        "$$\\left\\{J_{By}, J_{Bz}, J_{Wy}, J_{Wz}, b, h, m_{B}, m_{W}, r\\right\\}$$"
       ],
       "metadata": {},
       "output_type": "display_data",
       "png": "[encoded data removed]",
       "text": [
        "set([J_By, J_Bz, J_Wy, J_Wz, b, h, m_B, m_W, r])"
       ]
      },
      {
       "output_type": "stream",
       "stream": "stdout",
       "text": [
        "___\n"
       ]
      }
     ],
     "prompt_number": 24
    },
    {
     "cell_type": "code",
     "collapsed": false,
     "input": [
      "# numerical values for system parameters (measured or estimated for the experimental setup)\n",
      "params_values = [(J_Wy, m_W*r**2/2), (J_Wz, m_W*r**2/4), (J_Bx, J_By*0.75), (J_By, 0.0091539), (J_Bz, 0.0000648), (r,.045),\n",
      "                 (h, 0.165), (g, 9.81), (b, 0.293), (m_B, 1.538), (m_W,0.065/2)]\n",
      "\n",
      "#r_num = float(r.subs(params_values))"
     ],
     "language": "python",
     "metadata": {},
     "outputs": [],
     "prompt_number": 25
    },
    {
     "cell_type": "code",
     "collapsed": false,
     "input": [
      "fgnum = fg.subs(params_values)\n",
      "\n",
      "# only the last 4 state components are necessarry for the pendulum controller\n",
      "Anum = st.to_np(A.subs(params_values))[2:, 2:] ##\n",
      "Bnum = st.to_np(B.subs(params_values))[2:, :] ##"
     ],
     "language": "python",
     "metadata": {},
     "outputs": [
      {
       "metadata": {},
       "output_type": "display_data",
       "text": [
        "array([[   0.        ,    0.        ,    0.        ,    1.        ],\n",
        "       [-950.50053694,    0.        ,    0.        ,    0.        ],\n",
        "       [-950.50053694,    0.        ,    0.        ,    0.        ],\n",
        "       [ 213.68786843,    0.        ,    0.        ,    0.        ]])"
       ]
      },
      {
       "output_type": "stream",
       "stream": "stdout",
       "text": [
        "---\n"
       ]
      },
      {
       "metadata": {},
       "output_type": "display_data",
       "text": [
        "array([[    0.        ,     0.        ],\n",
        "       [ 6839.20073026, -2838.70633708],\n",
        "       [-2838.70633708,  6839.20073026],\n",
        "       [ -381.80629057,  -381.80629057]])"
       ]
      },
      {
       "output_type": "stream",
       "stream": "stdout",
       "text": [
        "---\n"
       ]
      }
     ],
     "prompt_number": 26
    },
    {
     "cell_type": "code",
     "collapsed": false,
     "input": [
      "# convert the vectorial expression fg into an rhs function for the simulation:\n",
      "args = list(state) + list(ttau)\n",
      "# unstable single axle vehicle state space model\n",
      "usav_statespace_model = st.expr_to_func(args, fgnum, eltw_vectorize=False)"
     ],
     "language": "python",
     "metadata": {},
     "outputs": [],
     "prompt_number": 27
    },
    {
     "cell_type": "code",
     "collapsed": false,
     "input": [
      "# how long does one evaluation call take?\n",
      "% time usav_statespace_model(*([0]*6 + [.01, -.2]))"
     ],
     "language": "python",
     "metadata": {},
     "outputs": [
      {
       "output_type": "stream",
       "stream": "stdout",
       "text": [
        "CPU times: user 0 ns, sys: 0 ns, total: 0 ns\n",
        "Wall time: 2.2 ms\n"
       ]
      },
      {
       "metadata": {},
       "output_type": "pyout",
       "prompt_number": 28,
       "text": [
        "matrix([[    0.        ],\n",
        "        [    0.        ],\n",
        "        [    0.        ],\n",
        "        [  636.13327472],\n",
        "        [-1396.22720942],\n",
        "        [   72.54319521]])"
       ]
      }
     ],
     "prompt_number": 28
    },
    {
     "cell_type": "markdown",
     "metadata": {},
     "source": [
      "----\n",
      "\n",
      "### Path- and trajectory planning for the kinematic single axle vehicle\n",
      "----"
     ]
    },
    {
     "cell_type": "code",
     "collapsed": false,
     "input": [
      "t = sp.Symbol('t') # Symbol for time t\n",
      "\n",
      "# time scaling of the curve parameter s\n",
      "s_end = 1\n",
      "T_end = 5\n",
      "\n",
      "s_poly = st.trans_poly(t, cn=2, left=(0, 0, 0, 0), right=(T_end, s_end, 0, 0)) ##\n",
      "s_traj = st.create_piecewise(t, [0, T_end], [0, s_poly, s_end]) ##\n",
      "s_dot_traj = s_traj.diff(t)\n",
      "\n",
      "# reference trajectories in dependence of path parameter\n",
      "s = sp.Symbol('s')\n",
      "\n",
      "xs_poly = s*2 ##\n",
      "ys_poly = st.trans_poly(s, 2, left=(0, 0, 0, 0), right=(s_end, 1, 0, 0)) ##\n",
      "\n",
      "xs_traj = st.create_piecewise(s, [0, s_end], [0, xs_poly, xs_poly.subs(s, s_end)]) \n",
      "ys_traj = st.create_piecewise(s, [0, s_end], [0, ys_poly, ys_poly.subs(s, s_end)]) \n",
      "\n",
      "# Aufrufbare Funktionen f\u00fcr s(t), s_dot(t) und (x(t), y(t)) anlegen\n",
      "s_traj_func = st.expr_to_func(t, sp.Matrix([s_traj]))\n",
      "s_dot_traj_func = st.expr_to_func(t, sp.Matrix([s_dot_traj]))\n",
      "zzs_traj_func = st.expr_to_func(s, sp.Matrix([xs_traj, ys_traj]))"
     ],
     "language": "python",
     "metadata": {},
     "outputs": [
      {
       "latex": [
        "$$\\frac{6 t^{5}}{3125} - \\frac{3 t^{4}}{125} + \\frac{2 t^{3}}{25}$$"
       ],
       "metadata": {},
       "output_type": "display_data",
       "png": "[encoded data removed]",
       "text": [
        "   5      4      3\n",
        "6\u22c5t    3\u22c5t    2\u22c5t \n",
        "\u2500\u2500\u2500\u2500 - \u2500\u2500\u2500\u2500 + \u2500\u2500\u2500\u2500\n",
        "3125   125     25 "
       ]
      },
      {
       "output_type": "stream",
       "stream": "stdout",
       "text": [
        "---\n"
       ]
      },
      {
       "latex": [
        "$$\\begin{cases} 0 & \\text{for}\\: t < 0 \\\\\\frac{6 t^{5}}{3125} - \\frac{3 t^{4}}{125} + \\frac{2 t^{3}}{25} & \\text{for}\\: t \\leq 5 \\\\1 & \\text{for}\\: t < \\infty \\end{cases}$$"
       ],
       "metadata": {},
       "output_type": "display_data",
       "png": "[encoded data removed]",
       "text": [
        "\u23a7        0           for t < 0\n",
        "\u23aa                             \n",
        "\u23aa   5      4      3           \n",
        "\u23aa6\u22c5t    3\u22c5t    2\u22c5t            \n",
        "\u23a8\u2500\u2500\u2500\u2500 - \u2500\u2500\u2500\u2500 + \u2500\u2500\u2500\u2500  for t \u2264 5\n",
        "\u23aa3125   125     25            \n",
        "\u23aa                             \n",
        "\u23aa        1           for t < \u221e\n",
        "\u23a9                             "
       ]
      },
      {
       "output_type": "stream",
       "stream": "stdout",
       "text": [
        "---\n"
       ]
      },
      {
       "latex": [
        "$$2 s$$"
       ],
       "metadata": {},
       "output_type": "display_data",
       "png": "[encoded data removed]",
       "text": [
        "2\u22c5s"
       ]
      },
      {
       "output_type": "stream",
       "stream": "stdout",
       "text": [
        "---\n"
       ]
      },
      {
       "latex": [
        "$$6 s^{5} - 15 s^{4} + 10 s^{3}$$"
       ],
       "metadata": {},
       "output_type": "display_data",
       "png": "[encoded data removed]",
       "text": [
        "   5       4       3\n",
        "6\u22c5s  - 15\u22c5s  + 10\u22c5s "
       ]
      },
      {
       "output_type": "stream",
       "stream": "stdout",
       "text": [
        "---\n"
       ]
      }
     ],
     "prompt_number": 29
    },
    {
     "cell_type": "code",
     "collapsed": false,
     "input": [
      "tt = np.linspace(-2, T_end+3, 1e2)\n",
      "pl.plot(tt, s_dot_traj_func(tt))"
     ],
     "language": "python",
     "metadata": {},
     "outputs": [
      {
       "metadata": {},
       "output_type": "pyout",
       "prompt_number": 30,
       "text": [
        "[<matplotlib.lines.Line2D at 0xcce03ec>]"
       ]
      },
      {
       "metadata": {},
       "output_type": "display_data",
       "png": "[encoded data removed]",
       "text": [
        "<matplotlib.figure.Figure at 0xc75984c>"
       ]
      }
     ],
     "prompt_number": 30
    },
    {
     "cell_type": "code",
     "collapsed": false,
     "input": [
      "xt_traj = xs_traj.subs(s, s_traj)\n",
      "yt_traj = ys_traj.subs(s, s_traj)\n",
      "\n",
      "zzt_traj = sp.Matrix([xt_traj, yt_traj, xt_traj.diff(t), yt_traj.diff(t)])\n",
      "yyt_ddot_traj = zzt_traj[2:, :].diff(t)\n",
      "\n",
      "zzt_traj_func = st.expr_to_func(t, zzt_traj)\n",
      "yyt_ddot_traj_func = st.expr_to_func(t, yyt_ddot_traj)"
     ],
     "language": "python",
     "metadata": {},
     "outputs": [],
     "prompt_number": 31
    },
    {
     "cell_type": "code",
     "collapsed": false,
     "input": [
      "# Matrix to convert polar velocities to wheel velocities\n",
      "T_polar_wheel_symb = sp.Matrix([thetadot, r/2*(qdot3 + qdot4)]).jacobian((qdot3, qdot4)).inv() ##\n",
      "T_polar_wheel = st.to_np(T_polar_wheel_symb.subs(params_values)) ##"
     ],
     "language": "python",
     "metadata": {},
     "outputs": [
      {
       "latex": [
        "$$\\left[\\begin{matrix}\\frac{b}{2 r} & \\frac{1}{r}\\\\- \\frac{b}{2 r} & \\frac{1}{r}\\end{matrix}\\right]$$"
       ],
       "metadata": {},
       "output_type": "display_data",
       "png": "[encoded data removed]",
       "text": [
        "\u23a1 b   1\u23a4\n",
        "\u23a2\u2500\u2500\u2500  \u2500\u23a5\n",
        "\u23a22\u22c5r  r\u23a5\n",
        "\u23a2      \u23a5\n",
        "\u23a2-b   1\u23a5\n",
        "\u23a2\u2500\u2500\u2500  \u2500\u23a5\n",
        "\u23a32\u22c5r  r\u23a6"
       ]
      },
      {
       "output_type": "stream",
       "stream": "stdout",
       "text": [
        "---\n"
       ]
      },
      {
       "metadata": {},
       "output_type": "display_data",
       "text": [
        "array([[  3.25555556,  22.22222222],\n",
        "       [ -3.25555556,  22.22222222]])"
       ]
      },
      {
       "output_type": "stream",
       "stream": "stdout",
       "text": [
        "---\n"
       ]
      }
     ],
     "prompt_number": 32
    },
    {
     "cell_type": "code",
     "collapsed": false,
     "input": [
      "# calculate reference velocities of the wheels\n",
      "xs_traj_ds = xs_traj.diff(s)\n",
      "xs_traj_dds = xs_traj.diff(s, s)\n",
      "\n",
      "ys_traj_ds = ys_traj.diff(s)\n",
      "ys_traj_dds = ys_traj.diff(s, s)\n",
      "\n",
      "theta_s_traj_ds = (ys_traj_dds*xs_traj_ds - xs_traj_dds*ys_traj_ds)/(xs_traj_ds**2 + ys_traj_ds**2)\n",
      "v_traj_ds = sp.sqrt(xs_traj_ds**2 + ys_traj_ds**2)\n",
      "\n",
      "phi_s_traj_ds = s_dot_traj*T_polar_wheel_symb*sp.Matrix([theta_s_traj_ds, v_traj_ds])\n",
      "\n",
      "phi_traj_dot = phi_s_traj_ds.subs(s, s_traj).subs(params_values)\n",
      "phi_traj_func = st.expr_to_func(t, phi_traj_dot)"
     ],
     "language": "python",
     "metadata": {},
     "outputs": [],
     "prompt_number": 33
    },
    {
     "cell_type": "code",
     "collapsed": false,
     "input": [
      "# plot phi_1(t), phi_2(t)\n",
      "\n",
      "tt = np.linspace(-2, T_end+3, 1e2)\n",
      "r_num = r.subs(params_values)\n",
      "phidot1_vals, phidot2_vals = phi_traj_func(tt).T\n",
      "pl.plot(tt, phidot1_vals*r_num)\n",
      "pl.plot(tt, phidot2_vals*r_num)"
     ],
     "language": "python",
     "metadata": {},
     "outputs": [
      {
       "metadata": {},
       "output_type": "pyout",
       "prompt_number": 34,
       "text": [
        "[<matplotlib.lines.Line2D at 0xcd550ac>]"
       ]
      },
      {
       "metadata": {},
       "output_type": "display_data",
       "png": "[encoded data removed]",
       "text": [
        "<matplotlib.figure.Figure at 0xc84f4ec>"
       ]
      }
     ],
     "prompt_number": 34
    },
    {
     "cell_type": "code",
     "collapsed": false,
     "input": [
      "# auxiliary function for theta\n",
      "theta_func = st.expr_to_func(mod.x, theta.subs(params_values))\n",
      "thetadot_func = st.expr_to_func(mod.x, thetadot.subs(params_values))"
     ],
     "language": "python",
     "metadata": {},
     "outputs": [],
     "prompt_number": 35
    },
    {
     "cell_type": "code",
     "collapsed": false,
     "input": [
      "vp = sp.symbols('vp') # pathvelocity (controller state)\n",
      "\n",
      "# Transformation matrix between virtual inputs v and virtual inputs u\n",
      "T_w_u_bar = sp.Matrix([[-1/vp*sin(theta), 1/vp*cos(theta)], [cos(theta), sin(theta)]]) ##\n",
      "T_w_u_bar_func = st.expr_to_func((q3, q4, vp), T_w_u_bar.subs(params_values))\n",
      "\n",
      "# separate function for the last line\n",
      "T_w_u2_bar_func = st.expr_to_func((q3, q4, vp), T_w_u_bar[1,:].subs(params_values))"
     ],
     "language": "python",
     "metadata": {},
     "outputs": [
      {
       "latex": [
        "$$\\left[\\begin{matrix}- \\frac{1}{vp} \\sin{\\left (\\frac{r}{b} \\left(q_{3} - q_{4}\\right) \\right )} & \\frac{1}{vp} \\cos{\\left (\\frac{r}{b} \\left(q_{3} - q_{4}\\right) \\right )}\\\\\\cos{\\left (\\frac{r}{b} \\left(q_{3} - q_{4}\\right) \\right )} & \\sin{\\left (\\frac{r}{b} \\left(q_{3} - q_{4}\\right) \\right )}\\end{matrix}\\right]$$"
       ],
       "metadata": {},
       "output_type": "display_data",
       "png": "[encoded data removed]",
       "text": [
        "\u23a1    \u239br\u22c5(q\u2083 - q\u2084)\u239e      \u239br\u22c5(q\u2083 - q\u2084)\u239e\u23a4\n",
        "\u23a2-sin\u239c\u2500\u2500\u2500\u2500\u2500\u2500\u2500\u2500\u2500\u2500\u2500\u239f   cos\u239c\u2500\u2500\u2500\u2500\u2500\u2500\u2500\u2500\u2500\u2500\u2500\u239f\u23a5\n",
        "\u23a2    \u239d     b     \u23a0      \u239d     b     \u23a0\u23a5\n",
        "\u23a2\u2500\u2500\u2500\u2500\u2500\u2500\u2500\u2500\u2500\u2500\u2500\u2500\u2500\u2500\u2500\u2500\u2500\u2500  \u2500\u2500\u2500\u2500\u2500\u2500\u2500\u2500\u2500\u2500\u2500\u2500\u2500\u2500\u2500\u2500\u23a5\n",
        "\u23a2        vp                 vp       \u23a5\n",
        "\u23a2                                    \u23a5\n",
        "\u23a2    \u239br\u22c5(q\u2083 - q\u2084)\u239e      \u239br\u22c5(q\u2083 - q\u2084)\u239e\u23a5\n",
        "\u23a2 cos\u239c\u2500\u2500\u2500\u2500\u2500\u2500\u2500\u2500\u2500\u2500\u2500\u239f   sin\u239c\u2500\u2500\u2500\u2500\u2500\u2500\u2500\u2500\u2500\u2500\u2500\u239f\u23a5\n",
        "\u23a3    \u239d     b     \u23a0      \u239d     b     \u23a0\u23a6"
       ]
      },
      {
       "output_type": "stream",
       "stream": "stdout",
       "text": [
        "---\n"
       ]
      }
     ],
     "prompt_number": 36
    },
    {
     "cell_type": "code",
     "collapsed": false,
     "input": [
      "# execution test\n",
      "T_w_u2_bar_func(0, 0, 3)"
     ],
     "language": "python",
     "metadata": {},
     "outputs": [
      {
       "metadata": {},
       "output_type": "pyout",
       "prompt_number": 37,
       "text": [
        "array([ 1.,  0.])"
       ]
      }
     ],
     "prompt_number": 37
    },
    {
     "cell_type": "markdown",
     "metadata": {},
     "source": [
      "---\n",
      "\n",
      "### Auxiliary functions for the controller\n",
      "---"
     ]
    },
    {
     "cell_type": "code",
     "collapsed": false,
     "input": [
      "x4_eps = 0.1\n",
      "def calc_phi_dot_des_u2_bar(state, w, t):\n",
      "    x4 = state[-1] # controller state (path velocity)\n",
      "    q3, q4 = state[2:4]\n",
      "    if abs(x4) > x4_eps and t < T_end:\n",
      "        T_w_u_bar_vals = T_w_u_bar_func(q3, q4, x4).reshape(2,2)\n",
      "        u1_bar, u2_bar = uu_bar = np.dot(T_w_u_bar_vals, w)\n",
      "        phi_dot_des = np.dot(T_polar_wheel, np.r_[u1_bar, x4])\n",
      "    else:\n",
      "        phi_dot_des = phi_traj_func(t)\n",
      "        u2_bar = np.dot(T_w_u2_bar_func(q3, q4, x4), w)\n",
      "    \n",
      "    return phi_dot_des, u2_bar"
     ],
     "language": "python",
     "metadata": {},
     "outputs": [],
     "prompt_number": 38
    },
    {
     "cell_type": "code",
     "collapsed": false,
     "input": [
      "def pendulum_controller(state):\n",
      "    res = np.dot(pendulum_gain, state) * -1\n",
      "    return res"
     ],
     "language": "python",
     "metadata": {},
     "outputs": [],
     "prompt_number": 39
    },
    {
     "cell_type": "code",
     "collapsed": false,
     "input": [
      "# auxiliary function to calculate the cartesian velocity\n",
      "vxy = qqd[:2, :].subs(v_rplm).subs(params_values) ##\n",
      "vxy_func = st.expr_to_func(args[:-2], vxy, eltw_vectorize=False)\n",
      "\n",
      "def xy_vel(state):\n",
      "    holonom_state = state[2:-1] # i.e. q3, q4, q5 and their derivatives\n",
      "    vxy = np.array(vxy_func(*holonom_state)).squeeze()\n",
      "    return vxy"
     ],
     "language": "python",
     "metadata": {},
     "outputs": [
      {
       "latex": [
        "$$\\left[\\begin{matrix}0.0225 \\left(\\dot{q}_{3} + \\dot{q}_{4} + 2 \\dot{q}_{5}\\right) \\cos{\\left (0.15358361774744 q_{3} - 0.15358361774744 q_{4} \\right )}\\\\0.0225 \\left(\\dot{q}_{3} + \\dot{q}_{4} + 2 \\dot{q}_{5}\\right) \\sin{\\left (0.15358361774744 q_{3} - 0.15358361774744 q_{4} \\right )}\\end{matrix}\\right]$$"
       ],
       "metadata": {},
       "output_type": "display_data",
       "png": "[encoded data removed]",
       "text": [
        "\u23a10.0225\u22c5(q\u0307\u2083 + q\u0307\u2084 + 2\u22c5q\u0307\u2085)\u22c5cos(0.15358361774744\u22c5q\u2083 - - -0.15358361774744\u22c5q\u2084)\u23a4\n",
        "\u23a2                                                                            \u23a5\n",
        "\u23a30.0225\u22c5(q\u0307\u2083 + q\u0307\u2084 + 2\u22c5q\u0307\u2085)\u22c5sin(0.15358361774744\u22c5q\u2083 - - -0.15358361774744\u22c5q\u2084)\u23a6"
       ]
      },
      {
       "output_type": "stream",
       "stream": "stdout",
       "text": [
        "---\n"
       ]
      }
     ],
     "prompt_number": 40
    },
    {
     "cell_type": "code",
     "collapsed": false,
     "input": [
      "# controller for the kinematic model\n",
      "# gains kp, kd will be specifified below\n",
      "\n",
      "def kinematic_controller(state, t, debug=False):\n",
      "    xy = state[:2]\n",
      "    vxy = xy_vel(state)\n",
      "    zz = np.concatenate((xy, vxy))\n",
      "    zz_ref = zzt_traj_func(t)\n",
      "    xy_ref  = zz_ref[:2]\n",
      "    diff = zz - zz_ref\n",
      "    e, edot = diff[:2], diff[2:]\n",
      "    yy_ddot_ref = yyt_ddot_traj_func(t)\n",
      "    \n",
      "    # desired accelerations (x, y)\n",
      "    ww = yy_ddot_ref - (kd*edot + kp*e)\n",
      "    \n",
      "    phi_dot_des, u2_bar = calc_phi_dot_des_u2_bar(state, ww, t)\n",
      "    \n",
      "    if 0 and debug:\n",
      "        C = st.Container()\n",
      "        C.vv = vv\n",
      "        C.vxy = vxy\n",
      "        return C\n",
      "        \n",
      "    \n",
      "    return phi_dot_des, u2_bar"
     ],
     "language": "python",
     "metadata": {},
     "outputs": [],
     "prompt_number": 41
    },
    {
     "cell_type": "markdown",
     "metadata": {},
     "source": [
      "---\n",
      "\n",
      "### The rhs function of the combined model (kinematics, mechanics and controller)\n",
      "\n",
      "---"
     ]
    },
    {
     "cell_type": "code",
     "collapsed": false,
     "input": [
      "def rhs(state, t, internals=False):\n",
      "    \n",
      "    phi_dot_des, u2_bar = uu = kinematic_controller(state, t)\n",
      "    vp_dot = u2_bar\n",
      "    \n",
      "    xy = state[:2]\n",
      "    QQ = state[2:8]\n",
      "    vp = state[8]\n",
      "    \n",
      "       \n",
      "    \n",
      "    X_reduced = QQ[2:] # \u2259 (q5, qdot3, qdot4, qdot5)\n",
      "    X_reduced_des = r_[0, phi_dot_des, 0]\n",
      "    X_red_diff = X_reduced - X_reduced_des\n",
      "    \n",
      "    ttau = pendulum_controller(X_red_diff)    \n",
      "        \n",
      "\n",
      "    args = r_[state[2:8], ttau]\n",
      "    \n",
      "    usav_state_dot = np.array(usav_statespace_model(*args)).squeeze()\n",
      "    xy_dot = vxy = xy_vel(state)\n",
      "    \n",
      "    state_dot = r_[xy_dot, usav_state_dot, vp_dot]\n",
      "    \n",
      "    if internals:\n",
      "        C = st.Container()\n",
      "        C.phi_dot_des = phi_dot_des\n",
      "        C.uu = uu\n",
      "        C.ttau = ttau\n",
      "        C.state_dot = state_dot\n",
      "        C.state  = state\n",
      "        C.QQ = QQ\n",
      "        Ckin = kinematic_controller(state, t, debug=internals)\n",
      "        C.kin = Ckin\n",
      "        return C\n",
      "    \n",
      "    return state_dot"
     ],
     "language": "python",
     "metadata": {},
     "outputs": [],
     "prompt_number": 42
    },
    {
     "cell_type": "code",
     "collapsed": false,
     "input": [
      "state0 = r_[0, .4,   0, 0, 0, 0, 0, 0, 0]\n",
      "poles = np.linspace(-25, -16, Anum.shape[0]) ##\n",
      "pendulum_gain = control.place(Anum, Bnum, poles)\n",
      "kp = np.r_[1, 1]*2\n",
      "kd = np.r_[1, 1]*2\n",
      "N = 1e3\n",
      "tt = np.linspace(0, T_end+3, N)\n",
      "res = odeint(rhs, state0, tt)\n",
      "res.shape ##\n",
      "X, Y, x1, x2, x3, x4, x5, x6, VP = res.T"
     ],
     "language": "python",
     "metadata": {},
     "outputs": [
      {
       "metadata": {},
       "output_type": "display_data",
       "text": [
        "array([-25., -22., -19., -16.])"
       ]
      },
      {
       "output_type": "stream",
       "stream": "stdout",
       "text": [
        "---\n"
       ]
      },
      {
       "latex": [
        "$$\\left ( 1000, \\quad 9\\right )$$"
       ],
       "metadata": {},
       "output_type": "display_data",
       "png": "[encoded data removed]",
       "text": [
        "(1000, 9)"
       ]
      },
      {
       "output_type": "stream",
       "stream": "stdout",
       "text": [
        "___\n"
       ]
      }
     ],
     "prompt_number": 43
    },
    {
     "cell_type": "code",
     "collapsed": false,
     "input": [
      "# For plotting the wheel-torque, we loop over the simulation results and use the flag internals=True\n",
      "ttau_res = np.zeros((N, 2))\n",
      "for i, state in enumerate(res):\n",
      "    c_res = rhs(state, tt[i], internals=True)\n",
      "    ttau_res[i,:] = c_res.ttau\n",
      "    "
     ],
     "language": "python",
     "metadata": {},
     "outputs": [],
     "prompt_number": 44
    },
    {
     "cell_type": "markdown",
     "metadata": {},
     "source": [
      "### Preview plots (see also the results of plot.py)"
     ]
    },
    {
     "cell_type": "code",
     "collapsed": false,
     "input": [
      "pl.plot(tt, ttau_res[:,0])\n",
      "pl.plot(tt, ttau_res[:,1])\n",
      "\n",
      "\n",
      "pl.grid()"
     ],
     "language": "python",
     "metadata": {},
     "outputs": [
      {
       "metadata": {},
       "output_type": "display_data",
       "png": "[encoded data removed]",
       "text": [
        "<matplotlib.figure.Figure at 0xc74554c>"
       ]
      }
     ],
     "prompt_number": 45
    },
    {
     "cell_type": "code",
     "collapsed": false,
     "input": [
      "# save the simulation results (for independent plotting script)\n",
      "C = st.Container()\n",
      "C.tt = tt\n",
      "C.res = res\n",
      "C.ttau = ttau_res\n",
      "C.xyt_traj = zzt_traj\n",
      "C.timestamp = time.ctime()\n",
      "fname = 'scripts/nb2_sim_res1.pcl'\n",
      "with open(fname, 'w') as pfile:\n",
      "    pickle.dump(C, pfile)"
     ],
     "language": "python",
     "metadata": {},
     "outputs": [],
     "prompt_number": 46
    },
    {
     "cell_type": "code",
     "collapsed": false,
     "input": [
      "# reference path and actual driven path \n",
      "pl.plot(X, Y)\n",
      "X_ref, Y_ref = zzt_traj_func(tt)[:, :2].T\n",
      "pl.plot(X_ref, Y_ref)\n",
      "pl.axis('equal')"
     ],
     "language": "python",
     "metadata": {},
     "outputs": [
      {
       "latex": [
        "$$\\left ( -0.5, \\quad 2.5, \\quad 0.0, \\quad 1.2\\right )$$"
       ],
       "metadata": {},
       "output_type": "pyout",
       "png": "[encoded data removed]",
       "prompt_number": 47,
       "text": [
        "(-0.5, 2.5, 0.0, 1.2)"
       ]
      },
      {
       "metadata": {},
       "output_type": "display_data",
       "png": "[encoded data removed]",
       "text": [
        "<matplotlib.figure.Figure at 0xcbb1d4c>"
       ]
      }
     ],
     "prompt_number": 47
    },
    {
     "cell_type": "code",
     "collapsed": false,
     "input": [
      "# alpha\n",
      "pl.plot(tt, x3)"
     ],
     "language": "python",
     "metadata": {},
     "outputs": [
      {
       "metadata": {},
       "output_type": "pyout",
       "prompt_number": 48,
       "text": [
        "[<matplotlib.lines.Line2D at 0xd1689cc>]"
       ]
      },
      {
       "metadata": {},
       "output_type": "display_data",
       "png": "[encoded data removed]",
       "text": [
        "<matplotlib.figure.Figure at 0xc759aec>"
       ]
      }
     ],
     "prompt_number": 48
    },
    {
     "cell_type": "code",
     "collapsed": false,
     "input": [
      "# phi1\n",
      "pl.plot(tt, x1)"
     ],
     "language": "python",
     "metadata": {},
     "outputs": [
      {
       "metadata": {},
       "output_type": "pyout",
       "prompt_number": 49,
       "text": [
        "[<matplotlib.lines.Line2D at 0xcb3ee0c>]"
       ]
      },
      {
       "metadata": {},
       "output_type": "display_data",
       "png": "[encoded data removed]",
       "text": [
        "<matplotlib.figure.Figure at 0xd173a6c>"
       ]
      }
     ],
     "prompt_number": 49
    },
    {
     "cell_type": "code",
     "collapsed": false,
     "input": [
      "pl.plot(tt, X)"
     ],
     "language": "python",
     "metadata": {},
     "outputs": [
      {
       "metadata": {},
       "output_type": "pyout",
       "prompt_number": 50,
       "text": [
        "[<matplotlib.lines.Line2D at 0xd2b416c>]"
       ]
      },
      {
       "metadata": {},
       "output_type": "display_data",
       "png": "[encoded data removed]",
       "text": [
        "<matplotlib.figure.Figure at 0xcd52d4c>"
       ]
      }
     ],
     "prompt_number": 50
    },
    {
     "cell_type": "code",
     "collapsed": false,
     "input": [
      "pl.plot(tt, Y)"
     ],
     "language": "python",
     "metadata": {},
     "outputs": [
      {
       "metadata": {},
       "output_type": "pyout",
       "prompt_number": 51,
       "text": [
        "[<matplotlib.lines.Line2D at 0xd426aec>]"
       ]
      },
      {
       "metadata": {},
       "output_type": "display_data",
       "png": "[encoded data removed]",
       "text": [
        "<matplotlib.figure.Figure at 0xd359c0c>"
       ]
      }
     ],
     "prompt_number": 51
    }
   ],
   "metadata": {}
  }
 ]
}